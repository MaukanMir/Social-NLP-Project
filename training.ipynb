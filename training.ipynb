{
 "cells": [
  {
   "cell_type": "markdown",
   "metadata": {},
   "source": [
    "# NLP Analysis"
   ]
  },
  {
   "cell_type": "markdown",
   "metadata": {},
   "source": [
    "# Imports"
   ]
  },
  {
   "cell_type": "code",
   "execution_count": 3,
   "metadata": {},
   "outputs": [],
   "source": [
    "import pandas as pd\n",
    "import numpy as np\n",
    "import seaborn as sns\n",
    "import matplotlib.pyplot as plt\n",
    "\n",
    "np.random.seed(1)\n",
    "\n",
    "from transformers import AutoTokenizer, AutoModelForSequenceClassification\n",
    "from sklearn.feature_extraction.text import CountVectorizer, TfidfVectorizer"
   ]
  },
  {
   "cell_type": "markdown",
   "metadata": {},
   "source": [
    "# Functions"
   ]
  },
  {
   "cell_type": "code",
   "execution_count": 17,
   "metadata": {},
   "outputs": [],
   "source": [
    "from collections import Counter\n",
    "\n",
    "import torch\n",
    "\n",
    "\n",
    "def read_dataframes(PATH, filepaths):\n",
    "\n",
    "  dataframes = []\n",
    "\n",
    "  for file in filepaths:\n",
    "    dataframes.append(pd.read_csv(PATH + file +'.csv'))\n",
    "  \n",
    "  return dataframes\n",
    "\n",
    "def check_class_imbalance(df):\n",
    "  y = df.values[:,-1]\n",
    "  counter = Counter(y)\n",
    "  for k,v in counter.items():\n",
    "    per = v/len(y) * 100\n",
    "    print(\"Class=%s, Count=%d, Percentage=%.3f%%\" % (k,v, per))\n",
    "\n",
    "def sentiment_score(review, tokenizer, model):\n",
    "  tokens = tokenizer.encode(review, return_tensors='pt')\n",
    "  result = model(tokens)\n",
    "  return int(torch.argmax(result.logits)) +1"
   ]
  },
  {
   "cell_type": "markdown",
   "metadata": {},
   "source": [
    "# Read in Dataframes"
   ]
  },
  {
   "cell_type": "code",
   "execution_count": 6,
   "metadata": {},
   "outputs": [],
   "source": [
    "PATH = \"/Users/maukanmir/Downloads/archive/\"\n",
    "\n",
    "filepaths = ['Education', 'Sports', 'Finance', 'Politics']"
   ]
  },
  {
   "cell_type": "code",
   "execution_count": 9,
   "metadata": {},
   "outputs": [],
   "source": [
    "edu_df, sport_df, finance_df, politics_df = read_dataframes(PATH, filepaths)"
   ]
  },
  {
   "cell_type": "markdown",
   "metadata": {},
   "source": [
    "# EDA Analysis"
   ]
  },
  {
   "cell_type": "code",
   "execution_count": 11,
   "metadata": {},
   "outputs": [
    {
     "name": "stdout",
     "output_type": "stream",
     "text": [
      "Number of NA values: Text     0\n",
      "Label    0\n",
      "dtype: int64\n",
      "Number of Duplicated values: 0\n",
      "(52, 2)\n",
      "Number of NA values: Text     0\n",
      "Label    0\n",
      "dtype: int64\n",
      "Number of Duplicated values: 0\n",
      "(56, 2)\n",
      "Number of NA values: Text     0\n",
      "Label    0\n",
      "dtype: int64\n",
      "Number of Duplicated values: 0\n",
      "(48, 2)\n",
      "Number of NA values: Text     0\n",
      "Label    0\n",
      "dtype: int64\n",
      "Number of Duplicated values: 0\n",
      "(53, 2)\n"
     ]
    }
   ],
   "source": [
    "\n",
    "data_frames = [edu_df, sport_df, finance_df, politics_df ]\n",
    "\n",
    "for df in data_frames:\n",
    "  print(f\"Number of NA values: {df.isna().sum()}\")\n",
    "  print(f\"Number of Duplicated values: {df.duplicated().sum()}\")\n",
    "  print(df.shape)"
   ]
  },
  {
   "cell_type": "markdown",
   "metadata": {},
   "source": [
    "# Check for class imbalances"
   ]
  },
  {
   "cell_type": "code",
   "execution_count": 15,
   "metadata": {},
   "outputs": [
    {
     "name": "stdout",
     "output_type": "stream",
     "text": [
      "------------------------\n",
      "Topic is Education\n",
      "Class=positive, Count=26, Percentage=50.000%\n",
      "Class=negative, Count=26, Percentage=50.000%\n",
      "------------------------\n",
      "Topic is Sports\n",
      "Class=positive, Count=28, Percentage=50.000%\n",
      "Class=negative, Count=28, Percentage=50.000%\n",
      "------------------------\n",
      "Topic is Finance\n",
      "Class=positive, Count=34, Percentage=70.833%\n",
      "Class=negative, Count=14, Percentage=29.167%\n",
      "------------------------\n",
      "Topic is Politics\n",
      "Class=positive, Count=25, Percentage=47.170%\n",
      "Class=negative, Count=28, Percentage=52.830%\n"
     ]
    }
   ],
   "source": [
    "for topic, df in zip(filepaths, data_frames):\n",
    "  print(\"------------------------\")\n",
    "  print(f\"Topic is {topic}\")\n",
    "  check_class_imbalance(df)"
   ]
  },
  {
   "cell_type": "code",
   "execution_count": 28,
   "metadata": {},
   "outputs": [
    {
     "data": {
      "application/vnd.jupyter.widget-view+json": {
       "model_id": "fb5ad2869b254b52b3925a4dcd55fda5",
       "version_major": 2,
       "version_minor": 0
      },
      "text/plain": [
       "config.json:   0%|          | 0.00/747 [00:00<?, ?B/s]"
      ]
     },
     "metadata": {},
     "output_type": "display_data"
    },
    {
     "data": {
      "application/vnd.jupyter.widget-view+json": {
       "model_id": "fed7e62e2fd4455da66a5ec49f725f95",
       "version_major": 2,
       "version_minor": 0
      },
      "text/plain": [
       "vocab.json:   0%|          | 0.00/899k [00:00<?, ?B/s]"
      ]
     },
     "metadata": {},
     "output_type": "display_data"
    },
    {
     "data": {
      "application/vnd.jupyter.widget-view+json": {
       "model_id": "11d1aae547634ed9a5be34d2b8cacbcb",
       "version_major": 2,
       "version_minor": 0
      },
      "text/plain": [
       "merges.txt:   0%|          | 0.00/456k [00:00<?, ?B/s]"
      ]
     },
     "metadata": {},
     "output_type": "display_data"
    },
    {
     "data": {
      "application/vnd.jupyter.widget-view+json": {
       "model_id": "58b3c7109680473d83a9b555f025869f",
       "version_major": 2,
       "version_minor": 0
      },
      "text/plain": [
       "special_tokens_map.json:   0%|          | 0.00/150 [00:00<?, ?B/s]"
      ]
     },
     "metadata": {},
     "output_type": "display_data"
    },
    {
     "data": {
      "application/vnd.jupyter.widget-view+json": {
       "model_id": "6c7f4f86331e4be59b83e31da8751f72",
       "version_major": 2,
       "version_minor": 0
      },
      "text/plain": [
       "pytorch_model.bin:   0%|          | 0.00/499M [00:00<?, ?B/s]"
      ]
     },
     "metadata": {},
     "output_type": "display_data"
    }
   ],
   "source": [
    "MODEL = f'cardiffnlp/twitter-roberta-base-sentiment'\n",
    "tokenizer = AutoTokenizer.from_pretrained(MODEL)\n",
    "model = AutoModelForSequenceClassification.from_pretrained(MODEL)"
   ]
  },
  {
   "cell_type": "code",
   "execution_count": 20,
   "metadata": {},
   "outputs": [],
   "source": [
    "for df in data_frames:\n",
    "  df[\"Label\"] = df[\"Label\"].apply(lambda x: 1 if x == 'negative' else 0)"
   ]
  },
  {
   "cell_type": "code",
   "execution_count": 29,
   "metadata": {},
   "outputs": [],
   "source": [
    "\n",
    "for df in data_frames:\n",
    "  df[\"BERT_score\"] = df[\"Text\"].apply(lambda review: sentiment_score(review, tokenizer, model))\n"
   ]
  },
  {
   "cell_type": "code",
   "execution_count": 32,
   "metadata": {},
   "outputs": [],
   "source": [
    "tfidf = TfidfVectorizer(max_features=2000)"
   ]
  },
  {
   "cell_type": "code",
   "execution_count": 33,
   "metadata": {},
   "outputs": [],
   "source": [
    "for idx, df in enumerate(data_frames):\n",
    "  df[\"Topic\"] = idx"
   ]
  },
  {
   "cell_type": "code",
   "execution_count": 35,
   "metadata": {},
   "outputs": [],
   "source": [
    "final_df = pd.concat([edu_df, sport_df, finance_df, politics_df], axis=0, ignore_index=True)"
   ]
  },
  {
   "cell_type": "code",
   "execution_count": 37,
   "metadata": {},
   "outputs": [
    {
     "data": {
      "text/plain": [
       "(209, 4)"
      ]
     },
     "execution_count": 37,
     "metadata": {},
     "output_type": "execute_result"
    }
   ],
   "source": [
    "final_df.shape"
   ]
  },
  {
   "cell_type": "markdown",
   "metadata": {},
   "source": [
    "# Separate Feature variables"
   ]
  },
  {
   "cell_type": "code",
   "execution_count": 38,
   "metadata": {},
   "outputs": [],
   "source": [
    "X,y = final_df.drop(\"Label\", axis=1), final_df['Label']"
   ]
  },
  {
   "cell_type": "code",
   "execution_count": null,
   "metadata": {},
   "outputs": [],
   "source": []
  }
 ],
 "metadata": {
  "kernelspec": {
   "display_name": "Python 3",
   "language": "python",
   "name": "python3"
  },
  "language_info": {
   "codemirror_mode": {
    "name": "ipython",
    "version": 3
   },
   "file_extension": ".py",
   "mimetype": "text/x-python",
   "name": "python",
   "nbconvert_exporter": "python",
   "pygments_lexer": "ipython3",
   "version": "3.9.19"
  }
 },
 "nbformat": 4,
 "nbformat_minor": 2
}
