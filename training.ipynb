{
 "cells": [
  {
   "cell_type": "markdown",
   "metadata": {},
   "source": [
    "# NLP Analysis"
   ]
  },
  {
   "cell_type": "markdown",
   "metadata": {},
   "source": [
    "# Imports"
   ]
  },
  {
   "cell_type": "code",
   "execution_count": 3,
   "metadata": {},
   "outputs": [],
   "source": [
    "import pandas as pd\n",
    "import numpy as np\n",
    "import seaborn as sns\n",
    "import matplotlib.pyplot as plt\n",
    "\n",
    "np.random.seed(1)\n",
    "\n",
    "from transformers import AutoTokenizer, AutoModelForSequenceClassification\n",
    "from sklearn.feature_extraction.text import CountVectorizer, TfidfVectorizer"
   ]
  },
  {
   "cell_type": "markdown",
   "metadata": {},
   "source": [
    "# Functions"
   ]
  },
  {
   "cell_type": "code",
   "execution_count": 14,
   "metadata": {},
   "outputs": [],
   "source": [
    "from collections import Counter\n",
    "\n",
    "\n",
    "def read_dataframes(PATH, filepaths):\n",
    "\n",
    "  dataframes = []\n",
    "\n",
    "  for file in filepaths:\n",
    "    dataframes.append(pd.read_csv(PATH + file +'.csv'))\n",
    "  \n",
    "  return dataframes\n",
    "\n",
    "def check_class_imbalance(df):\n",
    "  y = df.values[:,-1]\n",
    "  counter = Counter(y)\n",
    "  for k,v in counter.items():\n",
    "    per = v/len(y) * 100\n",
    "    print(\"Class=%s, Count=%d, Percentage=%.3f%%\" % (k,v, per))"
   ]
  },
  {
   "cell_type": "markdown",
   "metadata": {},
   "source": [
    "# Read in Dataframes"
   ]
  },
  {
   "cell_type": "code",
   "execution_count": 6,
   "metadata": {},
   "outputs": [],
   "source": [
    "PATH = \"/Users/maukanmir/Downloads/archive/\"\n",
    "\n",
    "filepaths = ['Education', 'Sports', 'Finance', 'Politics']"
   ]
  },
  {
   "cell_type": "code",
   "execution_count": 9,
   "metadata": {},
   "outputs": [],
   "source": [
    "edu_df, sport_df, finance_df, politics_df = read_dataframes(PATH, filepaths)"
   ]
  },
  {
   "cell_type": "markdown",
   "metadata": {},
   "source": [
    "# EDA Analysis"
   ]
  },
  {
   "cell_type": "code",
   "execution_count": 11,
   "metadata": {},
   "outputs": [
    {
     "name": "stdout",
     "output_type": "stream",
     "text": [
      "Number of NA values: Text     0\n",
      "Label    0\n",
      "dtype: int64\n",
      "Number of Duplicated values: 0\n",
      "(52, 2)\n",
      "Number of NA values: Text     0\n",
      "Label    0\n",
      "dtype: int64\n",
      "Number of Duplicated values: 0\n",
      "(56, 2)\n",
      "Number of NA values: Text     0\n",
      "Label    0\n",
      "dtype: int64\n",
      "Number of Duplicated values: 0\n",
      "(48, 2)\n",
      "Number of NA values: Text     0\n",
      "Label    0\n",
      "dtype: int64\n",
      "Number of Duplicated values: 0\n",
      "(53, 2)\n"
     ]
    }
   ],
   "source": [
    "\n",
    "data_frames = [edu_df, sport_df, finance_df, politics_df ]\n",
    "\n",
    "for df in data_frames:\n",
    "  print(f\"Number of NA values: {df.isna().sum()}\")\n",
    "  print(f\"Number of Duplicated values: {df.duplicated().sum()}\")\n",
    "  print(df.shape)"
   ]
  },
  {
   "cell_type": "markdown",
   "metadata": {},
   "source": [
    "# Check for class imbalances"
   ]
  },
  {
   "cell_type": "code",
   "execution_count": 15,
   "metadata": {},
   "outputs": [
    {
     "name": "stdout",
     "output_type": "stream",
     "text": [
      "------------------------\n",
      "Topic is Education\n",
      "Class=positive, Count=26, Percentage=50.000%\n",
      "Class=negative, Count=26, Percentage=50.000%\n",
      "------------------------\n",
      "Topic is Sports\n",
      "Class=positive, Count=28, Percentage=50.000%\n",
      "Class=negative, Count=28, Percentage=50.000%\n",
      "------------------------\n",
      "Topic is Finance\n",
      "Class=positive, Count=34, Percentage=70.833%\n",
      "Class=negative, Count=14, Percentage=29.167%\n",
      "------------------------\n",
      "Topic is Politics\n",
      "Class=positive, Count=25, Percentage=47.170%\n",
      "Class=negative, Count=28, Percentage=52.830%\n"
     ]
    }
   ],
   "source": [
    "for topic, df in zip(filepaths, data_frames):\n",
    "  print(\"------------------------\")\n",
    "  print(f\"Topic is {topic}\")\n",
    "  check_class_imbalance(df)"
   ]
  },
  {
   "cell_type": "code",
   "execution_count": null,
   "metadata": {},
   "outputs": [],
   "source": []
  }
 ],
 "metadata": {
  "kernelspec": {
   "display_name": "Python 3",
   "language": "python",
   "name": "python3"
  },
  "language_info": {
   "codemirror_mode": {
    "name": "ipython",
    "version": 3
   },
   "file_extension": ".py",
   "mimetype": "text/x-python",
   "name": "python",
   "nbconvert_exporter": "python",
   "pygments_lexer": "ipython3",
   "version": "3.9.19"
  }
 },
 "nbformat": 4,
 "nbformat_minor": 2
}
